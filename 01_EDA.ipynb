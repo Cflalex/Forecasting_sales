{
  "nbformat": 4,
  "nbformat_minor": 0,
  "metadata": {
    "colab": {
      "provenance": [],
      "mount_file_id": "1gX_kbFPJXYHgtn2V4sloGJ6yASLnsf4a",
      "authorship_tag": "ABX9TyPv1AnhZGd00Ln4KLNxVCO+",
      "include_colab_link": true
    },
    "kernelspec": {
      "name": "python3",
      "display_name": "Python 3"
    },
    "language_info": {
      "name": "python"
    }
  },
  "cells": [
    {
      "cell_type": "markdown",
      "metadata": {
        "id": "view-in-github",
        "colab_type": "text"
      },
      "source": [
        "<a href=\"https://colab.research.google.com/github/Cflalex/Forecasting_sales/blob/main/01_EDA.ipynb\" target=\"_parent\"><img src=\"https://colab.research.google.com/assets/colab-badge.svg\" alt=\"Open In Colab\"/></a>"
      ]
    },
    {
      "cell_type": "code",
      "execution_count": 2,
      "metadata": {
        "colab": {
          "base_uri": "https://localhost:8080/"
        },
        "collapsed": true,
        "id": "fTEr5pVwEmOd",
        "outputId": "6f762d37-7a53-4ccd-b5b3-91ce5229d21b"
      },
      "outputs": [
        {
          "output_type": "stream",
          "name": "stdout",
          "text": [
            "Cloning into 'Forecasting_sales'...\n",
            "remote: Enumerating objects: 23, done.\u001b[K\n",
            "remote: Counting objects: 100% (23/23), done.\u001b[K\n",
            "remote: Compressing objects: 100% (15/15), done.\u001b[K\n",
            "remote: Total 23 (delta 4), reused 23 (delta 4), pack-reused 0 (from 0)\u001b[K\n",
            "Receiving objects: 100% (23/23), done.\n",
            "Resolving deltas: 100% (4/4), done.\n"
          ]
        }
      ],
      "source": [
        "!git clone https://github.com/Cflalex/Forecasting_sales.git\n",
        "\n",
        "# Анализ данных\n",
        "import pandas as pd\n",
        "import numpy as np\n",
        "import matplotlib.pyplot as plt\n",
        "import seaborn as sns\n",
        "\n"
      ]
    },
    {
      "cell_type": "code",
      "source": [
        "%cd Forecasting_sales"
      ],
      "metadata": {
        "colab": {
          "base_uri": "https://localhost:8080/"
        },
        "id": "nGWcyxx1RFdT",
        "outputId": "9d6f9351-fbcb-4187-d4be-668150cfc697"
      },
      "execution_count": 3,
      "outputs": [
        {
          "output_type": "stream",
          "name": "stdout",
          "text": [
            "/content/Forecasting_sales\n"
          ]
        }
      ]
    },
    {
      "cell_type": "code",
      "source": [
        "# В начале ноутбука\n",
        "import os\n",
        "token = input(\"Вставте токен:\")  # Вводите токен вручную\n",
        "os.environ['GITHUB_TOKEN'] = token\n",
        "!git remote set-url origin \"https://${GITHUB_TOKEN}@github.com/Cflalex/Forecasting_sales.git\""
      ],
      "metadata": {
        "colab": {
          "base_uri": "https://localhost:8080/"
        },
        "id": "pgfE7IbBP3vj",
        "outputId": "d6992600-a3ad-42b9-e2cb-f3165625a677"
      },
      "execution_count": 4,
      "outputs": [
        {
          "name": "stdout",
          "output_type": "stream",
          "text": [
            "Вставте токен:%cd Forecasting_sales\n"
          ]
        }
      ]
    },
    {
      "cell_type": "code",
      "source": [
        "!echo \".ipynb_checkpoints\\n*.token\" > /content/Forecasting_sales/.gitignore"
      ],
      "metadata": {
        "id": "4gXy4xaHPtfd"
      },
      "execution_count": 20,
      "outputs": []
    },
    {
      "cell_type": "code",
      "source": [
        "!cp \"/content/drive/MyDrive/Colab Notebooks/01_EDA.ipynb\" \"/content/Forecasting_sales/notebooks/\"\n",
        "\n",
        "# Проверяем\n",
        "!ls /content/Forecasting_sales/notebooks/\n",
        "\n",
        "# Сохраняем в git\n",
        "!git add .\n",
        "!git commit -m \"Add EDA notebook\"\n",
        "!git push"
      ],
      "metadata": {
        "colab": {
          "base_uri": "https://localhost:8080/"
        },
        "id": "DfpoF0A9NK4i",
        "outputId": "b25fa83e-711f-4ae5-8f8f-20c6efd5085d"
      },
      "execution_count": 5,
      "outputs": [
        {
          "output_type": "stream",
          "name": "stdout",
          "text": [
            "01_EDA.ipynb  README.md\n",
            "Author identity unknown\n",
            "\n",
            "*** Please tell me who you are.\n",
            "\n",
            "Run\n",
            "\n",
            "  git config --global user.email \"you@example.com\"\n",
            "  git config --global user.name \"Your Name\"\n",
            "\n",
            "to set your account's default identity.\n",
            "Omit --global to set the identity only in this repository.\n",
            "\n",
            "fatal: unable to auto-detect email address (got 'root@d0b27f3ac51a.(none)')\n",
            "fatal: unable to access 'https://github.com/Cflalex/Forecasting_sales.git/': URL using bad/illegal format or missing URL\n"
          ]
        }
      ]
    },
    {
      "cell_type": "markdown",
      "source": [],
      "metadata": {
        "id": "gfrodlYeMnr4"
      }
    },
    {
      "cell_type": "code",
      "source": [
        "%cd /content/Forecasting_sales\n",
        "\n"
      ],
      "metadata": {
        "colab": {
          "base_uri": "https://localhost:8080/"
        },
        "id": "VWAipTKVAQBf",
        "outputId": "a019bc55-db2d-414b-8e7f-4f0c106a8bfa"
      },
      "execution_count": 2,
      "outputs": [
        {
          "output_type": "stream",
          "name": "stdout",
          "text": [
            "/content/Forecasting_sales\n"
          ]
        }
      ]
    },
    {
      "cell_type": "code",
      "source": [
        "!git rm notebooks/01_EDA.ipynb\n"
      ],
      "metadata": {
        "colab": {
          "base_uri": "https://localhost:8080/"
        },
        "id": "bv4sakUUBRU6",
        "outputId": "10813931-1866-4b41-e848-a9ba60aad907"
      },
      "execution_count": null,
      "outputs": [
        {
          "output_type": "stream",
          "name": "stdout",
          "text": [
            "rm 'notebooks/01_EDA.ipynb'\n"
          ]
        }
      ]
    },
    {
      "cell_type": "code",
      "source": [
        "!git commit -m \"Removed outdated EDA notebook\"\n"
      ],
      "metadata": {
        "colab": {
          "base_uri": "https://localhost:8080/"
        },
        "id": "2DYpCMPgBS11",
        "outputId": "82aef01a-24be-4d4d-82bf-a4fe4c75054e"
      },
      "execution_count": null,
      "outputs": [
        {
          "output_type": "stream",
          "name": "stdout",
          "text": [
            "[main 05ce1a6] Removed outdated EDA notebook\n",
            " 1 file changed, 0 insertions(+), 0 deletions(-)\n",
            " delete mode 100644 notebooks/01_EDA.ipynb\n"
          ]
        }
      ]
    },
    {
      "cell_type": "code",
      "source": [
        "!git push origin main\n"
      ],
      "metadata": {
        "colab": {
          "base_uri": "https://localhost:8080/"
        },
        "id": "6qeaFcQ-BZXP",
        "outputId": "74114b2e-c558-4296-adf9-61349a4c818c"
      },
      "execution_count": null,
      "outputs": [
        {
          "output_type": "stream",
          "name": "stdout",
          "text": [
            "Enumerating objects: 3, done.\n",
            "Counting objects:  33% (1/3)\rCounting objects:  66% (2/3)\rCounting objects: 100% (3/3)\rCounting objects: 100% (3/3), done.\n",
            "Delta compression using up to 2 threads\n",
            "Compressing objects:  50% (1/2)\rCompressing objects: 100% (2/2)\rCompressing objects: 100% (2/2), done.\n",
            "Writing objects:  50% (1/2)\rWriting objects: 100% (2/2)\rWriting objects: 100% (2/2), 238 bytes | 238.00 KiB/s, done.\n",
            "Total 2 (delta 1), reused 0 (delta 0), pack-reused 0\n",
            "remote: Resolving deltas: 100% (1/1), completed with 1 local object.\u001b[K\n",
            "To https://github.com/Cflalex/Forecasting_sales.git\n",
            "   352bb35..05ce1a6  main -> main\n"
          ]
        }
      ]
    }
  ]
}